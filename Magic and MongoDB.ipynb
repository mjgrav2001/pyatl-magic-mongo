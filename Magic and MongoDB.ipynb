{
 "cells": [
  {
   "cell_type": "markdown",
   "metadata": {
    "nbpresent": {
     "id": "a08a3230-0848-4f4f-910f-54b05e7441a4"
    }
   },
   "source": [
    "# PyATL\n",
    "## Magic and MongoDB\n",
    "### Rick Copeland, Arborian Consulting LLC \n",
    "### @rick446"
   ]
  },
  {
   "cell_type": "markdown",
   "metadata": {
    "nbpresent": {
     "id": "0d5d7c85-1346-4485-a5e3-974dcc02247a"
    }
   },
   "source": [
    "# Quick question:\n",
    "\n",
    "What does this code do?\n"
   ]
  },
  {
   "cell_type": "code",
   "execution_count": 1,
   "metadata": {
    "collapsed": true,
    "nbpresent": {
     "id": "44976cd9-e0a2-41ea-a167-5b48a80945bd"
    }
   },
   "outputs": [],
   "source": [
    "def something(x):\n",
    "    print 'something({})'.format(x)\n",
    "\n",
    "y = range(5)"
   ]
  },
  {
   "cell_type": "code",
   "execution_count": 2,
   "metadata": {
    "collapsed": false,
    "nbpresent": {
     "id": "4fafb0e7-bf2f-4a82-b25c-45eefa854a28"
    }
   },
   "outputs": [
    {
     "name": "stdout",
     "output_type": "stream",
     "text": [
      "something(0)\n",
      "something(1)\n",
      "something(2)\n",
      "something(3)\n",
      "something(4)\n"
     ]
    }
   ],
   "source": [
    "for x in y:\n",
    "    something(x)"
   ]
  },
  {
   "cell_type": "markdown",
   "metadata": {
    "nbpresent": {
     "id": "18ca3a59-bf06-4ef1-98b5-8dfb8be0874a"
    }
   },
   "source": [
    "Let me re-write that for you..."
   ]
  },
  {
   "cell_type": "code",
   "execution_count": 3,
   "metadata": {
    "collapsed": false,
    "nbpresent": {
     "id": "16fdfb20-d76e-4b5f-a2ee-a1e4c2e559d0"
    }
   },
   "outputs": [
    {
     "name": "stdout",
     "output_type": "stream",
     "text": [
      "something(0)\n",
      "something(1)\n",
      "something(2)\n",
      "something(3)\n",
      "something(4)\n"
     ]
    }
   ],
   "source": [
    "_iter_y = iter(y)\n",
    "while True:\n",
    "    try:\n",
    "        x = _iter_y.next()\n",
    "    except StopIteration:\n",
    "        break\n",
    "    something(x)\n",
    "del _iter_y"
   ]
  },
  {
   "cell_type": "markdown",
   "metadata": {
    "nbpresent": {
     "id": "7f854d99-2336-43c5-ba4d-ed5e737562a5"
    }
   },
   "source": [
    "# Well, that was verbose... \n",
    "\n",
    ":-/"
   ]
  },
  {
   "cell_type": "markdown",
   "metadata": {
    "nbpresent": {
     "id": "604f591f-dc08-4320-ac6a-74aa95cb9d14"
    }
   },
   "source": [
    "# Let's make it worse!"
   ]
  },
  {
   "cell_type": "code",
   "execution_count": 4,
   "metadata": {
    "collapsed": true,
    "nbpresent": {
     "id": "52bb4e53-0d13-4ea9-b660-c5908c693e2f"
    }
   },
   "outputs": [],
   "source": [
    "class Y(object):\n",
    "    pass\n",
    "\n",
    "y = Y()"
   ]
  },
  {
   "cell_type": "code",
   "execution_count": 5,
   "metadata": {
    "collapsed": false,
    "nbpresent": {
     "id": "cfae6520-a5ee-4381-a59a-e914eb54d442"
    }
   },
   "outputs": [
    {
     "ename": "TypeError",
     "evalue": "'Y' object is not iterable",
     "output_type": "error",
     "traceback": [
      "\u001b[0;31m---------------------------------------------------------------------------\u001b[0m",
      "\u001b[0;31mTypeError\u001b[0m                                 Traceback (most recent call last)",
      "\u001b[0;32m<ipython-input-5-035c3e491374>\u001b[0m in \u001b[0;36m<module>\u001b[0;34m()\u001b[0m\n\u001b[0;32m----> 1\u001b[0;31m \u001b[0;32mfor\u001b[0m \u001b[0mx\u001b[0m \u001b[0;32min\u001b[0m \u001b[0my\u001b[0m\u001b[0;34m:\u001b[0m\u001b[0;34m\u001b[0m\u001b[0m\n\u001b[0m\u001b[1;32m      2\u001b[0m     \u001b[0msomething\u001b[0m\u001b[0;34m(\u001b[0m\u001b[0mx\u001b[0m\u001b[0;34m)\u001b[0m\u001b[0;34m\u001b[0m\u001b[0m\n",
      "\u001b[0;31mTypeError\u001b[0m: 'Y' object is not iterable"
     ]
    }
   ],
   "source": [
    "for x in y:\n",
    "    something(x)"
   ]
  },
  {
   "cell_type": "markdown",
   "metadata": {
    "nbpresent": {
     "id": "19a25269-5c54-4b97-8b34-4044388ab1d5"
    }
   },
   "source": [
    "# Enter some magic"
   ]
  },
  {
   "cell_type": "code",
   "execution_count": 6,
   "metadata": {
    "collapsed": true,
    "nbpresent": {
     "id": "b7e95cc7-4f3c-415e-8623-35b2a04dcf8e"
    }
   },
   "outputs": [],
   "source": [
    "class Y(object):\n",
    "    def __iter__(self):\n",
    "        print 'Calling __iter__'\n",
    "        raise TypeError(\"What's __iter__ to do?\")\n",
    "        \n",
    "y = Y()"
   ]
  },
  {
   "cell_type": "code",
   "execution_count": 7,
   "metadata": {
    "collapsed": false,
    "nbpresent": {
     "id": "d08e1d98-726e-4702-814b-dc0e53207426"
    }
   },
   "outputs": [
    {
     "name": "stdout",
     "output_type": "stream",
     "text": [
      "Calling __iter__\n"
     ]
    },
    {
     "ename": "TypeError",
     "evalue": "What's __iter__ to do?",
     "output_type": "error",
     "traceback": [
      "\u001b[0;31m---------------------------------------------------------------------------\u001b[0m",
      "\u001b[0;31mTypeError\u001b[0m                                 Traceback (most recent call last)",
      "\u001b[0;32m<ipython-input-7-035c3e491374>\u001b[0m in \u001b[0;36m<module>\u001b[0;34m()\u001b[0m\n\u001b[0;32m----> 1\u001b[0;31m \u001b[0;32mfor\u001b[0m \u001b[0mx\u001b[0m \u001b[0;32min\u001b[0m \u001b[0my\u001b[0m\u001b[0;34m:\u001b[0m\u001b[0;34m\u001b[0m\u001b[0m\n\u001b[0m\u001b[1;32m      2\u001b[0m     \u001b[0msomething\u001b[0m\u001b[0;34m(\u001b[0m\u001b[0mx\u001b[0m\u001b[0;34m)\u001b[0m\u001b[0;34m\u001b[0m\u001b[0m\n",
      "\u001b[0;32m<ipython-input-6-11f07d3ac18b>\u001b[0m in \u001b[0;36m__iter__\u001b[0;34m(self)\u001b[0m\n\u001b[1;32m      2\u001b[0m     \u001b[0;32mdef\u001b[0m \u001b[0m__iter__\u001b[0m\u001b[0;34m(\u001b[0m\u001b[0mself\u001b[0m\u001b[0;34m)\u001b[0m\u001b[0;34m:\u001b[0m\u001b[0;34m\u001b[0m\u001b[0m\n\u001b[1;32m      3\u001b[0m         \u001b[0;32mprint\u001b[0m \u001b[0;34m'Calling __iter__'\u001b[0m\u001b[0;34m\u001b[0m\u001b[0m\n\u001b[0;32m----> 4\u001b[0;31m         \u001b[0;32mraise\u001b[0m \u001b[0mTypeError\u001b[0m\u001b[0;34m(\u001b[0m\u001b[0;34m\"What's __iter__ to do?\"\u001b[0m\u001b[0;34m)\u001b[0m\u001b[0;34m\u001b[0m\u001b[0m\n\u001b[0m\u001b[1;32m      5\u001b[0m \u001b[0;34m\u001b[0m\u001b[0m\n\u001b[1;32m      6\u001b[0m \u001b[0my\u001b[0m \u001b[0;34m=\u001b[0m \u001b[0mY\u001b[0m\u001b[0;34m(\u001b[0m\u001b[0;34m)\u001b[0m\u001b[0;34m\u001b[0m\u001b[0m\n",
      "\u001b[0;31mTypeError\u001b[0m: What's __iter__ to do?"
     ]
    }
   ],
   "source": [
    "for x in y:\n",
    "    something(x)"
   ]
  },
  {
   "cell_type": "code",
   "execution_count": 8,
   "metadata": {
    "collapsed": false,
    "nbpresent": {
     "id": "6af54603-54e8-493d-9b85-2a307adc3e3e"
    }
   },
   "outputs": [
    {
     "ename": "TypeError",
     "evalue": "iter() returned non-iterator of type 'Yiter'",
     "output_type": "error",
     "traceback": [
      "\u001b[0;31m---------------------------------------------------------------------------\u001b[0m",
      "\u001b[0;31mTypeError\u001b[0m                                 Traceback (most recent call last)",
      "\u001b[0;32m<ipython-input-8-10be3421c1ea>\u001b[0m in \u001b[0;36m<module>\u001b[0;34m()\u001b[0m\n\u001b[1;32m      7\u001b[0m \u001b[0;34m\u001b[0m\u001b[0m\n\u001b[1;32m      8\u001b[0m \u001b[0my\u001b[0m \u001b[0;34m=\u001b[0m \u001b[0mY\u001b[0m\u001b[0;34m(\u001b[0m\u001b[0;34m)\u001b[0m\u001b[0;34m\u001b[0m\u001b[0m\n\u001b[0;32m----> 9\u001b[0;31m \u001b[0;32mfor\u001b[0m \u001b[0mx\u001b[0m \u001b[0;32min\u001b[0m \u001b[0my\u001b[0m\u001b[0;34m:\u001b[0m\u001b[0;34m\u001b[0m\u001b[0m\n\u001b[0m\u001b[1;32m     10\u001b[0m     \u001b[0msomething\u001b[0m\u001b[0;34m(\u001b[0m\u001b[0mx\u001b[0m\u001b[0;34m)\u001b[0m\u001b[0;34m\u001b[0m\u001b[0m\n",
      "\u001b[0;31mTypeError\u001b[0m: iter() returned non-iterator of type 'Yiter'"
     ]
    }
   ],
   "source": [
    "class Yiter(object):\n",
    "    pass\n",
    "\n",
    "class Y(object):\n",
    "    def __iter__(self):\n",
    "        return Yiter()\n",
    "    \n",
    "y = Y()\n",
    "for x in y:\n",
    "    something(x)"
   ]
  },
  {
   "cell_type": "code",
   "execution_count": 9,
   "metadata": {
    "collapsed": true,
    "nbpresent": {
     "id": "e7ce76d7-ddd4-4a94-9ef1-be838dd75c98"
    }
   },
   "outputs": [],
   "source": [
    "class Yiter(object):\n",
    "    def next(self):\n",
    "        assert False, 'Called next()'"
   ]
  },
  {
   "cell_type": "code",
   "execution_count": 10,
   "metadata": {
    "collapsed": false,
    "nbpresent": {
     "id": "6c9aada6-0299-4d97-adbd-8271cdd40d40"
    }
   },
   "outputs": [
    {
     "ename": "AssertionError",
     "evalue": "Called next()",
     "output_type": "error",
     "traceback": [
      "\u001b[0;31m---------------------------------------------------------------------------\u001b[0m",
      "\u001b[0;31mAssertionError\u001b[0m                            Traceback (most recent call last)",
      "\u001b[0;32m<ipython-input-10-035c3e491374>\u001b[0m in \u001b[0;36m<module>\u001b[0;34m()\u001b[0m\n\u001b[0;32m----> 1\u001b[0;31m \u001b[0;32mfor\u001b[0m \u001b[0mx\u001b[0m \u001b[0;32min\u001b[0m \u001b[0my\u001b[0m\u001b[0;34m:\u001b[0m\u001b[0;34m\u001b[0m\u001b[0m\n\u001b[0m\u001b[1;32m      2\u001b[0m     \u001b[0msomething\u001b[0m\u001b[0;34m(\u001b[0m\u001b[0mx\u001b[0m\u001b[0;34m)\u001b[0m\u001b[0;34m\u001b[0m\u001b[0m\n",
      "\u001b[0;32m<ipython-input-9-11cb0cc9b31f>\u001b[0m in \u001b[0;36mnext\u001b[0;34m(self)\u001b[0m\n\u001b[1;32m      1\u001b[0m \u001b[0;32mclass\u001b[0m \u001b[0mYiter\u001b[0m\u001b[0;34m(\u001b[0m\u001b[0mobject\u001b[0m\u001b[0;34m)\u001b[0m\u001b[0;34m:\u001b[0m\u001b[0;34m\u001b[0m\u001b[0m\n\u001b[1;32m      2\u001b[0m     \u001b[0;32mdef\u001b[0m \u001b[0mnext\u001b[0m\u001b[0;34m(\u001b[0m\u001b[0mself\u001b[0m\u001b[0;34m)\u001b[0m\u001b[0;34m:\u001b[0m\u001b[0;34m\u001b[0m\u001b[0m\n\u001b[0;32m----> 3\u001b[0;31m         \u001b[0;32massert\u001b[0m \u001b[0mFalse\u001b[0m\u001b[0;34m,\u001b[0m \u001b[0;34m'Called next()'\u001b[0m\u001b[0;34m\u001b[0m\u001b[0m\n\u001b[0m",
      "\u001b[0;31mAssertionError\u001b[0m: Called next()"
     ]
    }
   ],
   "source": [
    "for x in y:\n",
    "    something(x)"
   ]
  },
  {
   "cell_type": "markdown",
   "metadata": {
    "nbpresent": {
     "id": "1a3f2e5c-1b95-44a9-bd40-2d862b83a80a"
    }
   },
   "source": [
    "# Protocols: the method behind Python magic"
   ]
  },
  {
   "cell_type": "code",
   "execution_count": 43,
   "metadata": {
    "collapsed": false,
    "nbpresent": {
     "id": "a68636f7-158c-4d6a-b583-3d275a282e01"
    }
   },
   "outputs": [],
   "source": [
    "class Y(object):\n",
    "    \n",
    "    def __init__(self, sequence):\n",
    "        self.sequence = list(sequence)\n",
    "        \n",
    "    def __iter__(self):\n",
    "        return Yiter(self)"
   ]
  },
  {
   "cell_type": "code",
   "execution_count": null,
   "metadata": {
    "collapsed": true,
    "nbpresent": {
     "id": "3993f9cf-0fac-44e6-b16a-52cd5cad8499"
    }
   },
   "outputs": [],
   "source": [
    "class Yiter(object):\n",
    "    \n",
    "    def __init__(self, y):\n",
    "        self.y = y\n",
    "        self.pos = 0\n",
    "        \n",
    "    def next(self):\n",
    "        if self.pos < len(self.y.sequence):\n",
    "            self.pos += 1\n",
    "            return self.y.sequence[self.pos - 1]\n",
    "        else:\n",
    "            raise StopIteration()"
   ]
  },
  {
   "cell_type": "code",
   "execution_count": 42,
   "metadata": {
    "collapsed": false,
    "nbpresent": {
     "id": "24337636-cf63-4115-9548-e5e16749a07e"
    }
   },
   "outputs": [
    {
     "name": "stdout",
     "output_type": "stream",
     "text": [
      "something(1)\n",
      "something(2)\n",
      "something(3)\n"
     ]
    }
   ],
   "source": [
    "y = Y([1,2,3])\n",
    "for x in y:\n",
    "    something(x)"
   ]
  },
  {
   "cell_type": "markdown",
   "metadata": {
    "nbpresent": {
     "id": "3c8510b1-ca29-4482-80d9-702d20d8df8c"
    }
   },
   "source": [
    "# MongoDB Query Language"
   ]
  },
  {
   "cell_type": "code",
   "execution_count": 12,
   "metadata": {
    "collapsed": false,
    "nbpresent": {
     "id": "cc26ee88-137a-4f43-bfac-0ed9637871b9"
    }
   },
   "outputs": [
    {
     "data": {
      "text/plain": [
       "<pymongo.results.DeleteResult at 0x10c60a910>"
      ]
     },
     "execution_count": 12,
     "metadata": {},
     "output_type": "execute_result"
    }
   ],
   "source": [
    "import pymongo\n",
    "cli = pymongo.MongoClient()\n",
    "db = cli.pyatl\n",
    "test = db.test\n",
    "test.delete_many({})"
   ]
  },
  {
   "cell_type": "code",
   "execution_count": 13,
   "metadata": {
    "collapsed": false,
    "nbpresent": {
     "id": "7c4be7f6-f24d-43a9-9ea6-8b4ea3919118"
    }
   },
   "outputs": [
    {
     "data": {
      "text/plain": [
       "<pymongo.results.InsertManyResult at 0x10c60ab40>"
      ]
     },
     "execution_count": 13,
     "metadata": {},
     "output_type": "execute_result"
    }
   ],
   "source": [
    "test.insert_many([dict(name='Document {}'.format(i), i=i) for i in range(10)])"
   ]
  },
  {
   "cell_type": "code",
   "execution_count": 14,
   "metadata": {
    "collapsed": false,
    "nbpresent": {
     "id": "6fe6f254-18c9-4808-921f-5341a8e35d28"
    }
   },
   "outputs": [
    {
     "data": {
      "text/plain": [
       "{u'_id': ObjectId('57ffb9dfd6697b67247da6b2'), u'i': 0, u'name': u'Document 0'}"
      ]
     },
     "execution_count": 14,
     "metadata": {},
     "output_type": "execute_result"
    }
   ],
   "source": [
    "test.find_one()"
   ]
  },
  {
   "cell_type": "code",
   "execution_count": 15,
   "metadata": {
    "collapsed": false,
    "nbpresent": {
     "id": "4aa107fc-ee90-4867-9f81-7ed76e479186"
    }
   },
   "outputs": [
    {
     "data": {
      "text/plain": [
       "{u'_id': ObjectId('57ffb9dfd6697b67247da6b6'), u'i': 4, u'name': u'Document 4'}"
      ]
     },
     "execution_count": 15,
     "metadata": {},
     "output_type": "execute_result"
    }
   ],
   "source": [
    "test.find_one({'i': 4})"
   ]
  },
  {
   "cell_type": "code",
   "execution_count": 16,
   "metadata": {
    "collapsed": false,
    "nbpresent": {
     "id": "bdc53eeb-9333-4ef8-bf8a-9441bcf38775"
    }
   },
   "outputs": [
    {
     "data": {
      "text/plain": [
       "[{u'_id': ObjectId('57ffb9dfd6697b67247da6b7'),\n",
       "  u'i': 5,\n",
       "  u'name': u'Document 5'},\n",
       " {u'_id': ObjectId('57ffb9dfd6697b67247da6b8'),\n",
       "  u'i': 6,\n",
       "  u'name': u'Document 6'},\n",
       " {u'_id': ObjectId('57ffb9dfd6697b67247da6b9'),\n",
       "  u'i': 7,\n",
       "  u'name': u'Document 7'},\n",
       " {u'_id': ObjectId('57ffb9dfd6697b67247da6ba'),\n",
       "  u'i': 8,\n",
       "  u'name': u'Document 8'}]"
      ]
     },
     "execution_count": 16,
     "metadata": {},
     "output_type": "execute_result"
    }
   ],
   "source": [
    "list(test.find({'i': {'$gt': 4, '$lt': 9}}))"
   ]
  },
  {
   "cell_type": "code",
   "execution_count": 17,
   "metadata": {
    "collapsed": false,
    "nbpresent": {
     "id": "023b1b6c-9819-4ebe-8f49-b48021a24788"
    }
   },
   "outputs": [
    {
     "data": {
      "text/plain": [
       "[{u'_id': ObjectId('57ffb9dfd6697b67247da6b6'),\n",
       "  u'i': 4,\n",
       "  u'name': u'Document 4'},\n",
       " {u'_id': ObjectId('57ffb9dfd6697b67247da6b7'),\n",
       "  u'i': 5,\n",
       "  u'name': u'Document 5'},\n",
       " {u'_id': ObjectId('57ffb9dfd6697b67247da6b8'),\n",
       "  u'i': 6,\n",
       "  u'name': u'Document 6'},\n",
       " {u'_id': ObjectId('57ffb9dfd6697b67247da6b9'),\n",
       "  u'i': 7,\n",
       "  u'name': u'Document 7'},\n",
       " {u'_id': ObjectId('57ffb9dfd6697b67247da6ba'),\n",
       "  u'i': 8,\n",
       "  u'name': u'Document 8'}]"
      ]
     },
     "execution_count": 17,
     "metadata": {},
     "output_type": "execute_result"
    }
   ],
   "source": [
    "list(test.find({'i': {'$gte': 4, '$lt': 9}}))"
   ]
  },
  {
   "cell_type": "markdown",
   "metadata": {
    "nbpresent": {
     "id": "ceaa321b-8e95-4c9f-85ac-552624e1a1b0"
    }
   },
   "source": [
    "Ick."
   ]
  },
  {
   "cell_type": "markdown",
   "metadata": {
    "nbpresent": {
     "id": "28a1719c-d58a-4b88-b18f-c02df55b8586"
    }
   },
   "source": [
    "# Can we make it easier?\n",
    "\n",
    "> Wouldn't it be nice if I could just use Python syntax to create MongoDB query documents?\n",
    "> - Rick Copeland"
   ]
  },
  {
   "cell_type": "code",
   "execution_count": 18,
   "metadata": {
    "collapsed": false,
    "nbpresent": {
     "id": "6771ece2-ac12-4af0-ab3e-232728a263f2"
    }
   },
   "outputs": [],
   "source": [
    "import barin"
   ]
  },
  {
   "cell_type": "code",
   "execution_count": 27,
   "metadata": {
    "collapsed": true,
    "nbpresent": {
     "id": "47595371-78fb-428a-a0e9-f87bb85a638a"
    }
   },
   "outputs": [],
   "source": [
    "metadata = barin.Metadata()\n",
    "metadata.db = db"
   ]
  },
  {
   "cell_type": "code",
   "execution_count": 28,
   "metadata": {
    "collapsed": false,
    "nbpresent": {
     "id": "219ca59d-263e-4b74-be11-9efe29bde470"
    }
   },
   "outputs": [],
   "source": [
    "Test = barin.collection(\n",
    "    metadata, 'test',\n",
    "    barin.Field('_id', barin.schema.ObjectId()),\n",
    "    barin.Field('name', str),\n",
    "    barin.Field('i', int))\n"
   ]
  },
  {
   "cell_type": "code",
   "execution_count": 30,
   "metadata": {
    "collapsed": false,
    "nbpresent": {
     "id": "22e85576-a1ec-4b42-bb78-57f423b4799e"
    }
   },
   "outputs": [
    {
     "data": {
      "text/plain": [
       "[test: {'i': 0, '_id': ObjectId('57ffb9dfd6697b67247da6b2'), 'name': u'Document 0'},\n",
       " test: {'i': 1, '_id': ObjectId('57ffb9dfd6697b67247da6b3'), 'name': u'Document 1'},\n",
       " test: {'i': 2, '_id': ObjectId('57ffb9dfd6697b67247da6b4'), 'name': u'Document 2'},\n",
       " test: {'i': 3, '_id': ObjectId('57ffb9dfd6697b67247da6b5'), 'name': u'Document 3'},\n",
       " test: {'i': 4, '_id': ObjectId('57ffb9dfd6697b67247da6b6'), 'name': u'Document 4'},\n",
       " test: {'i': 5, '_id': ObjectId('57ffb9dfd6697b67247da6b7'), 'name': u'Document 5'},\n",
       " test: {'i': 6, '_id': ObjectId('57ffb9dfd6697b67247da6b8'), 'name': u'Document 6'},\n",
       " test: {'i': 7, '_id': ObjectId('57ffb9dfd6697b67247da6b9'), 'name': u'Document 7'},\n",
       " test: {'i': 8, '_id': ObjectId('57ffb9dfd6697b67247da6ba'), 'name': u'Document 8'},\n",
       " test: {'i': 9, '_id': ObjectId('57ffb9dfd6697b67247da6bb'), 'name': u'Document 9'}]"
      ]
     },
     "execution_count": 30,
     "metadata": {},
     "output_type": "execute_result"
    }
   ],
   "source": [
    "Test.m.find().all()"
   ]
  },
  {
   "cell_type": "code",
   "execution_count": 32,
   "metadata": {
    "collapsed": false,
    "nbpresent": {
     "id": "1b96d367-4ba5-4e77-9dec-6e3d30c89c43"
    }
   },
   "outputs": [
    {
     "data": {
      "text/plain": [
       "[test: {'i': 5, '_id': ObjectId('57ffb9dfd6697b67247da6b7'), 'name': u'Document 5'}]"
      ]
     },
     "execution_count": 32,
     "metadata": {},
     "output_type": "execute_result"
    }
   ],
   "source": [
    "Test.m.find({'i': 5}).all()"
   ]
  },
  {
   "cell_type": "code",
   "execution_count": 34,
   "metadata": {
    "collapsed": false,
    "nbpresent": {
     "id": "decd1062-8175-4a01-84cc-76759ab499bd"
    }
   },
   "outputs": [
    {
     "data": {
      "text/plain": [
       "[test: {'i': 5, '_id': ObjectId('57ffb9dfd6697b67247da6b7'), 'name': u'Document 5'}]"
      ]
     },
     "execution_count": 34,
     "metadata": {},
     "output_type": "execute_result"
    }
   ],
   "source": [
    "Test.m.find(Test.i == 5).all()"
   ]
  },
  {
   "cell_type": "code",
   "execution_count": 35,
   "metadata": {
    "collapsed": false,
    "nbpresent": {
     "id": "97fe9e8c-0d32-4180-b667-34de0d28768f"
    }
   },
   "outputs": [
    {
     "data": {
      "text/plain": [
       "[test: {'i': 4, '_id': ObjectId('57ffb9dfd6697b67247da6b6'), 'name': u'Document 4'},\n",
       " test: {'i': 5, '_id': ObjectId('57ffb9dfd6697b67247da6b7'), 'name': u'Document 5'},\n",
       " test: {'i': 6, '_id': ObjectId('57ffb9dfd6697b67247da6b8'), 'name': u'Document 6'},\n",
       " test: {'i': 7, '_id': ObjectId('57ffb9dfd6697b67247da6b9'), 'name': u'Document 7'},\n",
       " test: {'i': 8, '_id': ObjectId('57ffb9dfd6697b67247da6ba'), 'name': u'Document 8'},\n",
       " test: {'i': 9, '_id': ObjectId('57ffb9dfd6697b67247da6bb'), 'name': u'Document 9'}]"
      ]
     },
     "execution_count": 35,
     "metadata": {},
     "output_type": "execute_result"
    }
   ],
   "source": [
    "Test.m.find(Test.i > 3).all()"
   ]
  },
  {
   "cell_type": "code",
   "execution_count": 36,
   "metadata": {
    "collapsed": false,
    "nbpresent": {
     "id": "7c01aa19-2f32-4181-a16e-6dff6fc1b337"
    }
   },
   "outputs": [
    {
     "data": {
      "text/plain": [
       "{'i': {'$gt': 3}}"
      ]
     },
     "execution_count": 36,
     "metadata": {},
     "output_type": "execute_result"
    }
   ],
   "source": [
    "Test.i > 3"
   ]
  },
  {
   "cell_type": "markdown",
   "metadata": {
    "nbpresent": {
     "id": "25071084-1368-4b4c-8cc0-cc3172441661"
    }
   },
   "source": [
    "whoa."
   ]
  },
  {
   "cell_type": "markdown",
   "metadata": {
    "nbpresent": {
     "id": "90902caa-faf2-43f5-bdd7-b2b6e01db03d"
    }
   },
   "source": [
    "# Let's look at the definition of `barin.field.Field`:\n",
    "\n",
    "```\n",
    "class Field(object):\n",
    "\n",
    "    # ... lots of stuff ...\n",
    "\n",
    "    # Query operators\n",
    "    def _qop(self, op, value):\n",
    "        return mql.Clause({self._name: {op: value}})\n",
    "\n",
    "    def __eq__(self, value):\n",
    "        return mql.Clause({self._name: value})\n",
    "\n",
    "    __ne__ = partialmethod(_qop, '$ne')\n",
    "    __gt__ = partialmethod(_qop, '$gt')\n",
    "    __ge__ = partialmethod(_qop, '$gte')\n",
    "    __lt__ = partialmethod(_qop, '$lt')\n",
    "    __le__ = partialmethod(_qop, '$lte')\n",
    "    in_ = partialmethod(_qop, '$in')\n",
    "    nin = partialmethod(_qop, '$nin')\n",
    "    exists = partialmethod(_qop, '$exists')\n",
    "    type = partialmethod(_qop, '$type')\n",
    "    where = partialmethod(_qop, '$where')\n",
    "    geo_within = partialmethod(_qop, '$geoWithin')\n",
    "    geo_intersects = partialmethod(_qop, '$geoIntersects')\n",
    "    all = partialmethod(_qop, '$all')\n",
    "    elem_match = partialmethod(_qop, '$elemMatch')\n",
    "    size = partialmethod(_qop, '$size')\n",
    "    bits_all_set = partialmethod(_qop, '$bitsAllSet')\n",
    "    bits_any_set = partialmethod(_qop, '$bitsAnySet')\n",
    "    bits_all_clear = partialmethod(_qop, '$bitsAllClear')\n",
    "    bits_any_clear = partialmethod(_qop, '$bitsAnyClear')\n",
    "    \n",
    "    # ... lots of other stuff ...\n",
    "```"
   ]
  },
  {
   "cell_type": "markdown",
   "metadata": {
    "nbpresent": {
     "id": "12f64e3f-e7d8-4c5f-a120-572bc76c7079"
    }
   },
   "source": [
    "# Aside: `partialmethod`\n",
    "\n",
    "```\n",
    "x = partialmethod(y, arg0)\n",
    "```\n",
    "\n",
    "means\n",
    "\n",
    "```\n",
    "def x(*args, **kwargs):\n",
    "    return y(arg0, *args, **kwargs)\n",
    "```"
   ]
  },
  {
   "cell_type": "markdown",
   "metadata": {
    "nbpresent": {
     "id": "e50cfb20-3794-4c38-bb71-0c47d35ae6f5"
    }
   },
   "source": [
    "So the following:\n",
    "\n",
    "```\n",
    "    __lt__ = partialmethod(_qop, '$lt')\n",
    "```\n",
    "\n",
    "could also have been written as:\n",
    "\n",
    "```\n",
    "    def __lt__(self, value):\n",
    "        return self._qop('$lt', value)\n",
    "```\n",
    "\n",
    "or\n",
    "\n",
    "```\n",
    "    def __lt__(self, value):\n",
    "        return mql.Clause({self._name: {'$lt': value}})\n",
    "```"
   ]
  },
  {
   "cell_type": "markdown",
   "metadata": {
    "nbpresent": {
     "id": "1c7a7d2f-f1f2-4f92-a149-bf2b70bf3005"
    }
   },
   "source": [
    "# And now for barin.mql.Clause...\n",
    "\n",
    "```\n",
    "class Clause(dict):\n",
    "\n",
    "    def __and__(self, other):\n",
    "        return and_(self, other)\n",
    "\n",
    "    def __or__(self, other):\n",
    "        return or_(self, other)\n",
    "\n",
    "    def __invert__(self):\n",
    "        return not_(self)\n",
    "\n",
    "```"
   ]
  },
  {
   "cell_type": "code",
   "execution_count": 38,
   "metadata": {
    "collapsed": false,
    "nbpresent": {
     "id": "5a040202-4698-468d-b8c1-d192aca9a3ef"
    }
   },
   "outputs": [
    {
     "data": {
      "text/plain": [
       "[test: {'i': 2, '_id': ObjectId('57ffb9dfd6697b67247da6b4'), 'name': u'Document 2'},\n",
       " test: {'i': 3, '_id': ObjectId('57ffb9dfd6697b67247da6b5'), 'name': u'Document 3'}]"
      ]
     },
     "execution_count": 38,
     "metadata": {},
     "output_type": "execute_result"
    }
   ],
   "source": [
    "from barin import mql\n",
    "\n",
    "Test.m.find(mql.and_(Test.i.in_([1,2,3]), Test.i > 1, Test.name.regex(r'^Doc.*'))).all()"
   ]
  },
  {
   "cell_type": "code",
   "execution_count": 41,
   "metadata": {
    "collapsed": false,
    "nbpresent": {
     "id": "0daefe15-d098-4f78-97cd-d0a2e0594100"
    }
   },
   "outputs": [
    {
     "data": {
      "text/plain": [
       "[test: {'i': 2, '_id': ObjectId('57ffb9dfd6697b67247da6b4'), 'name': u'Document 2'},\n",
       " test: {'i': 3, '_id': ObjectId('57ffb9dfd6697b67247da6b5'), 'name': u'Document 3'}]"
      ]
     },
     "execution_count": 41,
     "metadata": {},
     "output_type": "execute_result"
    }
   ],
   "source": [
    "Test.m.find(\n",
    "    Test.i.in_([1,2,3]) &\n",
    "    (Test.i > 1) & \n",
    "    Test.name.regex(r'^Doc.*')).all()"
   ]
  },
  {
   "cell_type": "code",
   "execution_count": null,
   "metadata": {
    "collapsed": true,
    "nbpresent": {
     "id": "75cae59f-161b-4633-b89a-6602433b9e1d"
    }
   },
   "outputs": [],
   "source": []
  }
 ],
 "metadata": {
  "kernelspec": {
   "display_name": "Python 2",
   "language": "python",
   "name": "python2"
  },
  "language_info": {
   "codemirror_mode": {
    "name": "ipython",
    "version": 2
   },
   "file_extension": ".py",
   "mimetype": "text/x-python",
   "name": "python",
   "nbconvert_exporter": "python",
   "pygments_lexer": "ipython2",
   "version": "2.7.12"
  },
  "nbpresent": {
   "slides": {
    "03e2ca52-7569-4dc7-8868-7a7a0c323930": {
     "id": "03e2ca52-7569-4dc7-8868-7a7a0c323930",
     "prev": "1076ee0a-2654-48f0-a5f7-819278e835ea",
     "regions": {
      "d1ad55da-658f-4424-b49c-c30abf6985d4": {
       "attrs": {
        "height": 0.8,
        "width": 0.8,
        "x": 0.1,
        "y": 0.1
       },
       "content": {
        "cell": "7c01aa19-2f32-4181-a16e-6dff6fc1b337",
        "part": "whole"
       },
       "id": "d1ad55da-658f-4424-b49c-c30abf6985d4"
      }
     }
    },
    "0cf01107-9cf0-4734-8e14-dbce0b0a9af6": {
     "id": "0cf01107-9cf0-4734-8e14-dbce0b0a9af6",
     "prev": "b08fc039-0865-41dc-bbf0-921b75bbf783",
     "regions": {
      "92e1ccb2-6049-4093-ae11-7a2dd8b46b10": {
       "attrs": {
        "height": 0.8,
        "width": 0.8,
        "x": 0.1,
        "y": 0.1
       },
       "content": {
        "cell": "cfae6520-a5ee-4381-a59a-e914eb54d442",
        "part": "whole"
       },
       "id": "92e1ccb2-6049-4093-ae11-7a2dd8b46b10"
      }
     }
    },
    "1076ee0a-2654-48f0-a5f7-819278e835ea": {
     "id": "1076ee0a-2654-48f0-a5f7-819278e835ea",
     "prev": "96e53b8a-31cd-46df-a8e5-d8d90d8a109b",
     "regions": {
      "858d189a-fca0-4101-b1da-c9016aba4604": {
       "attrs": {
        "height": 0.8,
        "width": 0.8,
        "x": 0.1,
        "y": 0.1
       },
       "content": {
        "cell": "97fe9e8c-0d32-4180-b667-34de0d28768f",
        "part": "whole"
       },
       "id": "858d189a-fca0-4101-b1da-c9016aba4604"
      }
     }
    },
    "1540384f-bfc6-4eab-8cff-e4e1575ddbc7": {
     "id": "1540384f-bfc6-4eab-8cff-e4e1575ddbc7",
     "prev": "587ed623-8e25-4ac7-b711-e10a44e96d4c",
     "regions": {
      "a68c1027-3043-4898-98eb-b38a373b7d5f": {
       "attrs": {
        "height": 0.8,
        "width": 0.8,
        "x": 0.1,
        "y": 0.1
       },
       "content": {
        "cell": "6771ece2-ac12-4af0-ab3e-232728a263f2",
        "part": "whole"
       },
       "id": "a68c1027-3043-4898-98eb-b38a373b7d5f"
      }
     }
    },
    "1824b404-ad7b-4f4d-8631-620897008fc4": {
     "id": "1824b404-ad7b-4f4d-8631-620897008fc4",
     "prev": "f0147ed8-7ff6-4e30-a8ad-063554437c9d",
     "regions": {
      "f1db284e-bfef-46b1-97e3-637467e13d90": {
       "attrs": {
        "height": 0.8,
        "width": 0.8,
        "x": 0.1,
        "y": 0.1
       },
       "content": {
        "cell": "16fdfb20-d76e-4b5f-a2ee-a1e4c2e559d0",
        "part": "whole"
       },
       "id": "f1db284e-bfef-46b1-97e3-637467e13d90"
      }
     }
    },
    "1f455a16-59f4-4915-9be0-95ea0de0636d": {
     "id": "1f455a16-59f4-4915-9be0-95ea0de0636d",
     "prev": "c0294c18-a1b5-484b-9882-0dce0b3ca600",
     "regions": {
      "42d942aa-4be4-4329-9ca9-22cf02cc8fc5": {
       "attrs": {
        "height": 0.8,
        "width": 0.8,
        "x": 0.1,
        "y": 0.1
       },
       "content": {
        "cell": "e7ce76d7-ddd4-4a94-9ef1-be838dd75c98",
        "part": "whole"
       },
       "id": "42d942aa-4be4-4329-9ca9-22cf02cc8fc5"
      }
     }
    },
    "208fb581-060a-41df-b004-db133184b2de": {
     "id": "208fb581-060a-41df-b004-db133184b2de",
     "prev": "2968c0d8-3ef5-4a18-babb-402e54523b59",
     "regions": {
      "87246606-3ee8-48b6-948d-3e531918383c": {
       "attrs": {
        "height": 0.8,
        "width": 0.8,
        "x": 0.1,
        "y": 0.1
       },
       "content": {
        "cell": "44976cd9-e0a2-41ea-a167-5b48a80945bd",
        "part": "whole"
       },
       "id": "87246606-3ee8-48b6-948d-3e531918383c"
      }
     }
    },
    "2968c0d8-3ef5-4a18-babb-402e54523b59": {
     "id": "2968c0d8-3ef5-4a18-babb-402e54523b59",
     "prev": "db5abc67-a0c4-4024-9376-69ee5116e040",
     "regions": {
      "061f1a23-c4b4-45c3-8102-a0eea0d3b727": {
       "attrs": {
        "height": 0.8,
        "width": 0.8,
        "x": 0.1,
        "y": 0.1
       },
       "content": {
        "cell": "0d5d7c85-1346-4485-a5e3-974dcc02247a",
        "part": "whole"
       },
       "id": "061f1a23-c4b4-45c3-8102-a0eea0d3b727"
      }
     }
    },
    "2aec2fb3-8781-4497-8c8c-6029563c7cb0": {
     "id": "2aec2fb3-8781-4497-8c8c-6029563c7cb0",
     "prev": "1824b404-ad7b-4f4d-8631-620897008fc4",
     "regions": {
      "0ee2ad36-af7a-4c30-b499-fe0f7659e3c5": {
       "attrs": {
        "height": 0.8,
        "width": 0.8,
        "x": 0.1,
        "y": 0.1
       },
       "content": {
        "cell": "7f854d99-2336-43c5-ba4d-ed5e737562a5",
        "part": "whole"
       },
       "id": "0ee2ad36-af7a-4c30-b499-fe0f7659e3c5"
      }
     }
    },
    "4136c541-5af1-4881-bb27-269c0f0a648e": {
     "id": "4136c541-5af1-4881-bb27-269c0f0a648e",
     "prev": "4ea9e208-c7d8-4ef7-afc7-bfaeac006e06",
     "regions": {
      "95b8fba7-ff6c-4934-b6e0-63e3e606eb00": {
       "attrs": {
        "height": 0.8,
        "width": 0.8,
        "x": 0.1,
        "y": 0.1
       },
       "content": {
        "cell": "cc26ee88-137a-4f43-bfac-0ed9637871b9",
        "part": "whole"
       },
       "id": "95b8fba7-ff6c-4934-b6e0-63e3e606eb00"
      }
     }
    },
    "419ed398-03cb-4092-83f8-4afdc1f404e7": {
     "id": "419ed398-03cb-4092-83f8-4afdc1f404e7",
     "prev": "d61f6490-4e01-4740-b07b-3246458c8711",
     "regions": {
      "6b5a68cc-07c2-4666-ad3b-05683c9e1f0c": {
       "attrs": {
        "height": 0.8,
        "width": 0.8,
        "x": 0.1,
        "y": 0.1
       },
       "content": {
        "cell": "5a040202-4698-468d-b8c1-d192aca9a3ef",
        "part": "whole"
       },
       "id": "6b5a68cc-07c2-4666-ad3b-05683c9e1f0c"
      }
     }
    },
    "49708a20-2d23-4f7a-9c18-8497d146410a": {
     "id": "49708a20-2d23-4f7a-9c18-8497d146410a",
     "prev": "4136c541-5af1-4881-bb27-269c0f0a648e",
     "regions": {
      "1b658ac7-2d6c-4fbc-817f-abb345056fe5": {
       "attrs": {
        "height": 0.8,
        "width": 0.8,
        "x": 0.1,
        "y": 0.1
       },
       "content": {
        "cell": "7c4be7f6-f24d-43a9-9ea6-8b4ea3919118",
        "part": "whole"
       },
       "id": "1b658ac7-2d6c-4fbc-817f-abb345056fe5"
      }
     }
    },
    "4e92a88e-566d-42eb-a99e-a099d1e3ebb6": {
     "id": "4e92a88e-566d-42eb-a99e-a099d1e3ebb6",
     "prev": "2aec2fb3-8781-4497-8c8c-6029563c7cb0",
     "regions": {
      "32693683-1daf-4f7c-872a-7149ee96e1ac": {
       "attrs": {
        "height": 0.8,
        "width": 0.8,
        "x": 0.1,
        "y": 0.1
       },
       "content": {
        "cell": "604f591f-dc08-4320-ac6a-74aa95cb9d14",
        "part": "whole"
       },
       "id": "32693683-1daf-4f7c-872a-7149ee96e1ac"
      }
     }
    },
    "4ea9e208-c7d8-4ef7-afc7-bfaeac006e06": {
     "id": "4ea9e208-c7d8-4ef7-afc7-bfaeac006e06",
     "prev": "7b2c6ace-86a9-48e7-9293-493b3ade7669",
     "regions": {
      "5918acd0-fa91-4e8d-bcc6-cc99eddb6be5": {
       "attrs": {
        "height": 0.8,
        "width": 0.8,
        "x": 0.1,
        "y": 0.1
       },
       "content": {
        "cell": "3c8510b1-ca29-4482-80d9-702d20d8df8c",
        "part": "whole"
       },
       "id": "5918acd0-fa91-4e8d-bcc6-cc99eddb6be5"
      }
     }
    },
    "587ed623-8e25-4ac7-b711-e10a44e96d4c": {
     "id": "587ed623-8e25-4ac7-b711-e10a44e96d4c",
     "prev": "a20c911c-14ba-4622-8879-1ac0914758c8",
     "regions": {
      "02d7165a-2166-42cb-9cbd-b54402dae750": {
       "attrs": {
        "height": 0.8,
        "width": 0.8,
        "x": 0.1,
        "y": 0.1
       },
       "content": {
        "cell": "28a1719c-d58a-4b88-b18f-c02df55b8586",
        "part": "whole"
       },
       "id": "02d7165a-2166-42cb-9cbd-b54402dae750"
      }
     }
    },
    "5d2b3b19-fa3d-44fa-b386-7a30bbb4b3e3": {
     "id": "5d2b3b19-fa3d-44fa-b386-7a30bbb4b3e3",
     "prev": "9d19853e-5b45-40d0-8f61-acc0afecd671",
     "regions": {
      "f3ceab4e-ca85-4457-96da-f39092648755": {
       "attrs": {
        "height": 0.8,
        "width": 0.8,
        "x": 0.1,
        "y": 0.1
       },
       "content": {
        "cell": "12f64e3f-e7d8-4c5f-a120-572bc76c7079",
        "part": "whole"
       },
       "id": "f3ceab4e-ca85-4457-96da-f39092648755"
      }
     }
    },
    "69008abb-e125-40ba-a582-d0a63b36529f": {
     "id": "69008abb-e125-40ba-a582-d0a63b36529f",
     "prev": "7bd64047-4ff9-4db2-b79d-9f33219375bb",
     "regions": {
      "c6a0c8c2-7cc1-4f3e-a814-dbe97f624bf3": {
       "attrs": {
        "height": 0.8,
        "width": 0.8,
        "x": 0.1,
        "y": 0.1
       },
       "content": {
        "cell": "023b1b6c-9819-4ebe-8f49-b48021a24788",
        "part": "whole"
       },
       "id": "c6a0c8c2-7cc1-4f3e-a814-dbe97f624bf3"
      }
     }
    },
    "79e099f9-8755-4e8c-abe8-c4fc79cbf907": {
     "id": "79e099f9-8755-4e8c-abe8-c4fc79cbf907",
     "prev": "8fd3fa53-2027-422d-9d11-03ac108744a8",
     "regions": {
      "391ae628-afd7-4fdd-9f9f-2ac6c7ced48e": {
       "attrs": {
        "height": 0.8,
        "width": 0.8,
        "x": 0.1,
        "y": 0.1
       },
       "content": {
        "cell": "4aa107fc-ee90-4867-9f81-7ed76e479186",
        "part": "whole"
       },
       "id": "391ae628-afd7-4fdd-9f9f-2ac6c7ced48e"
      }
     }
    },
    "7b2c6ace-86a9-48e7-9293-493b3ade7669": {
     "id": "7b2c6ace-86a9-48e7-9293-493b3ade7669",
     "prev": "cbe6760e-86a3-4ad5-8ea6-2c07c2c7392b",
     "regions": {
      "3a2e5d3c-bc1c-4336-b88a-1b3ca2ef8cc3": {
       "attrs": {
        "height": 0.8,
        "width": 0.8,
        "x": 0.1,
        "y": 0.1
       },
       "content": {
        "cell": "24337636-cf63-4115-9548-e5e16749a07e",
        "part": "whole"
       },
       "id": "3a2e5d3c-bc1c-4336-b88a-1b3ca2ef8cc3"
      }
     }
    },
    "7bd64047-4ff9-4db2-b79d-9f33219375bb": {
     "id": "7bd64047-4ff9-4db2-b79d-9f33219375bb",
     "prev": "79e099f9-8755-4e8c-abe8-c4fc79cbf907",
     "regions": {
      "775b4a9e-daf2-4235-9fb6-5599aceea464": {
       "attrs": {
        "height": 0.8,
        "width": 0.8,
        "x": 0.1,
        "y": 0.1
       },
       "content": {
        "cell": "bdc53eeb-9333-4ef8-bf8a-9441bcf38775",
        "part": "whole"
       },
       "id": "775b4a9e-daf2-4235-9fb6-5599aceea464"
      }
     }
    },
    "7cc508b4-7939-46bc-82bb-ac42889f77ba": {
     "id": "7cc508b4-7939-46bc-82bb-ac42889f77ba",
     "prev": "0cf01107-9cf0-4734-8e14-dbce0b0a9af6",
     "regions": {
      "db9a86cd-63a7-428d-a7db-1228f2131a2d": {
       "attrs": {
        "height": 0.8,
        "width": 0.8,
        "x": 0.1,
        "y": 0.1
       },
       "content": {
        "cell": "19a25269-5c54-4b97-8b34-4044388ab1d5",
        "part": "whole"
       },
       "id": "db9a86cd-63a7-428d-a7db-1228f2131a2d"
      }
     }
    },
    "8bec502e-e5b7-4912-b1de-a0054c848b09": {
     "id": "8bec502e-e5b7-4912-b1de-a0054c848b09",
     "prev": "7cc508b4-7939-46bc-82bb-ac42889f77ba",
     "regions": {
      "d2364310-5d7c-468e-a06e-02dae3b21387": {
       "attrs": {
        "height": 0.8,
        "width": 0.8,
        "x": 0.1,
        "y": 0.1
       },
       "content": {
        "cell": "b7e95cc7-4f3c-415e-8623-35b2a04dcf8e",
        "part": "whole"
       },
       "id": "d2364310-5d7c-468e-a06e-02dae3b21387"
      }
     }
    },
    "8c9c6909-4971-4fda-8316-e6c733ea4a7b": {
     "id": "8c9c6909-4971-4fda-8316-e6c733ea4a7b",
     "prev": "03e2ca52-7569-4dc7-8868-7a7a0c323930",
     "regions": {
      "e401181a-92bf-4732-80f3-407e2d832eeb": {
       "attrs": {
        "height": 0.8,
        "width": 0.8,
        "x": 0.1,
        "y": 0.1
       },
       "content": {
        "cell": "25071084-1368-4b4c-8cc0-cc3172441661",
        "part": "whole"
       },
       "id": "e401181a-92bf-4732-80f3-407e2d832eeb"
      }
     }
    },
    "8fd3fa53-2027-422d-9d11-03ac108744a8": {
     "id": "8fd3fa53-2027-422d-9d11-03ac108744a8",
     "prev": "49708a20-2d23-4f7a-9c18-8497d146410a",
     "regions": {
      "1540c4fb-2746-4587-b30a-389d72d11507": {
       "attrs": {
        "height": 0.8,
        "width": 0.8,
        "x": 0.1,
        "y": 0.1
       },
       "content": {
        "cell": "6fe6f254-18c9-4808-921f-5341a8e35d28",
        "part": "whole"
       },
       "id": "1540c4fb-2746-4587-b30a-389d72d11507"
      }
     }
    },
    "95130c7f-b9ec-4b17-98df-1936372ab6b7": {
     "id": "95130c7f-b9ec-4b17-98df-1936372ab6b7",
     "prev": "208fb581-060a-41df-b004-db133184b2de",
     "regions": {
      "28df28a6-762b-45ad-b4c9-1f8cc2334c9e": {
       "attrs": {
        "height": 0.8,
        "width": 0.8,
        "x": 0.1,
        "y": 0.1
       },
       "content": {
        "cell": "4fafb0e7-bf2f-4a82-b25c-45eefa854a28",
        "part": "whole"
       },
       "id": "28df28a6-762b-45ad-b4c9-1f8cc2334c9e"
      }
     }
    },
    "96e53b8a-31cd-46df-a8e5-d8d90d8a109b": {
     "id": "96e53b8a-31cd-46df-a8e5-d8d90d8a109b",
     "prev": "a350e6d4-d41d-4dcb-b86a-7f33d2298048",
     "regions": {
      "c1597407-d958-4dc1-8a81-188a27ab24ff": {
       "attrs": {
        "height": 0.8,
        "width": 0.8,
        "x": 0.1,
        "y": 0.1
       },
       "content": {
        "cell": "decd1062-8175-4a01-84cc-76759ab499bd",
        "part": "whole"
       },
       "id": "c1597407-d958-4dc1-8a81-188a27ab24ff"
      }
     }
    },
    "980fcb05-1c53-4e81-a8a4-27a44b65fccb": {
     "id": "980fcb05-1c53-4e81-a8a4-27a44b65fccb",
     "prev": "5d2b3b19-fa3d-44fa-b386-7a30bbb4b3e3",
     "regions": {
      "c3d62c55-56c9-42d1-a3fe-a2022c193aa6": {
       "attrs": {
        "height": 0.8,
        "width": 0.8,
        "x": 0.1,
        "y": 0.1
       },
       "content": {
        "cell": "e50cfb20-3794-4c38-bb71-0c47d35ae6f5",
        "part": "whole"
       },
       "id": "c3d62c55-56c9-42d1-a3fe-a2022c193aa6"
      }
     }
    },
    "9b95e5a7-3604-4b21-ba67-e36c84a73205": {
     "id": "9b95e5a7-3604-4b21-ba67-e36c84a73205",
     "prev": "8bec502e-e5b7-4912-b1de-a0054c848b09",
     "regions": {
      "740b0392-a3c7-4ddf-be3f-08808a906a2d": {
       "attrs": {
        "height": 0.8,
        "width": 0.8,
        "x": 0.1,
        "y": 0.1
       },
       "content": {
        "cell": "d08e1d98-726e-4702-814b-dc0e53207426",
        "part": "whole"
       },
       "id": "740b0392-a3c7-4ddf-be3f-08808a906a2d"
      }
     }
    },
    "9d19853e-5b45-40d0-8f61-acc0afecd671": {
     "id": "9d19853e-5b45-40d0-8f61-acc0afecd671",
     "prev": "8c9c6909-4971-4fda-8316-e6c733ea4a7b",
     "regions": {
      "edad5f52-ae42-4f0d-a501-6fd3b49acd13": {
       "attrs": {
        "height": 0.8,
        "width": 0.8,
        "x": 0.1,
        "y": 0.1
       },
       "content": {
        "cell": "90902caa-faf2-43f5-bdd7-b2b6e01db03d",
        "part": "whole"
       },
       "id": "edad5f52-ae42-4f0d-a501-6fd3b49acd13"
      }
     }
    },
    "a20c911c-14ba-4622-8879-1ac0914758c8": {
     "id": "a20c911c-14ba-4622-8879-1ac0914758c8",
     "prev": "69008abb-e125-40ba-a582-d0a63b36529f",
     "regions": {
      "a8d5d118-742e-4d40-90eb-dfaa070be62b": {
       "attrs": {
        "height": 0.8,
        "width": 0.8,
        "x": 0.1,
        "y": 0.1
       },
       "content": {
        "cell": "ceaa321b-8e95-4c9f-85ac-552624e1a1b0",
        "part": "whole"
       },
       "id": "a8d5d118-742e-4d40-90eb-dfaa070be62b"
      }
     }
    },
    "a350e6d4-d41d-4dcb-b86a-7f33d2298048": {
     "id": "a350e6d4-d41d-4dcb-b86a-7f33d2298048",
     "prev": "a3e01d01-d240-41b7-b2c2-a71ff4ff98aa",
     "regions": {
      "e24a0532-3eda-41b2-832d-510a53aada04": {
       "attrs": {
        "height": 0.8,
        "width": 0.8,
        "x": 0.1,
        "y": 0.1
       },
       "content": {
        "cell": "1b96d367-4ba5-4e77-9dec-6e3d30c89c43",
        "part": "whole"
       },
       "id": "e24a0532-3eda-41b2-832d-510a53aada04"
      }
     }
    },
    "a3e01d01-d240-41b7-b2c2-a71ff4ff98aa": {
     "id": "a3e01d01-d240-41b7-b2c2-a71ff4ff98aa",
     "prev": "a598619a-1c1c-4c7e-a7b0-638895f4bc32",
     "regions": {
      "0f53d1ea-1693-4e29-8813-3cd0d7acc62d": {
       "attrs": {
        "height": 0.8,
        "width": 0.8,
        "x": 0.1,
        "y": 0.1
       },
       "content": {
        "cell": "22e85576-a1ec-4b42-bb78-57f423b4799e",
        "part": "whole"
       },
       "id": "0f53d1ea-1693-4e29-8813-3cd0d7acc62d"
      }
     }
    },
    "a598619a-1c1c-4c7e-a7b0-638895f4bc32": {
     "id": "a598619a-1c1c-4c7e-a7b0-638895f4bc32",
     "prev": "c40c66c8-0932-42bd-8f85-3b5a237ee79e",
     "regions": {
      "a7413781-85f4-451a-b467-1eed9dd1b6c6": {
       "attrs": {
        "height": 0.8,
        "width": 0.8,
        "x": 0.1,
        "y": 0.1
       },
       "content": {
        "cell": "219ca59d-263e-4b74-be11-9efe29bde470",
        "part": "whole"
       },
       "id": "a7413781-85f4-451a-b467-1eed9dd1b6c6"
      }
     }
    },
    "b08fc039-0865-41dc-bbf0-921b75bbf783": {
     "id": "b08fc039-0865-41dc-bbf0-921b75bbf783",
     "prev": "4e92a88e-566d-42eb-a99e-a099d1e3ebb6",
     "regions": {
      "afebd063-ff3e-4923-acf8-a47127ab4682": {
       "attrs": {
        "height": 0.8,
        "width": 0.8,
        "x": 0.1,
        "y": 0.1
       },
       "content": {
        "cell": "52bb4e53-0d13-4ea9-b660-c5908c693e2f",
        "part": "whole"
       },
       "id": "afebd063-ff3e-4923-acf8-a47127ab4682"
      }
     }
    },
    "bcc866ad-fe85-470e-8c80-600e07eb5248": {
     "id": "bcc866ad-fe85-470e-8c80-600e07eb5248",
     "prev": "1f455a16-59f4-4915-9be0-95ea0de0636d",
     "regions": {
      "290af18c-32e9-4132-8f29-5706d0ea3a08": {
       "attrs": {
        "height": 0.8,
        "width": 0.8,
        "x": 0.1,
        "y": 0.1
       },
       "content": {
        "cell": "6c9aada6-0299-4d97-adbd-8271cdd40d40",
        "part": "whole"
       },
       "id": "290af18c-32e9-4132-8f29-5706d0ea3a08"
      }
     }
    },
    "bdaa0fc4-dd21-4609-bb7e-137b328b0b48": {
     "id": "bdaa0fc4-dd21-4609-bb7e-137b328b0b48",
     "prev": "bcc866ad-fe85-470e-8c80-600e07eb5248",
     "regions": {
      "dfdbfb3a-9343-4901-be81-8fafa867b664": {
       "attrs": {
        "height": 0.8,
        "width": 0.8,
        "x": 0.1,
        "y": 0.1
       },
       "content": {
        "cell": "1a3f2e5c-1b95-44a9-bd40-2d862b83a80a",
        "part": "whole"
       },
       "id": "dfdbfb3a-9343-4901-be81-8fafa867b664"
      }
     }
    },
    "bf68b024-1145-42b0-9d6e-bdb842ceb807": {
     "id": "bf68b024-1145-42b0-9d6e-bdb842ceb807",
     "prev": "419ed398-03cb-4092-83f8-4afdc1f404e7",
     "regions": {
      "98095420-a608-40a7-9ab6-1f5c9f1262b3": {
       "attrs": {
        "height": 0.8,
        "width": 0.8,
        "x": 0.1,
        "y": 0.1
       },
       "content": {
        "cell": "0daefe15-d098-4f78-97cd-d0a2e0594100",
        "part": "whole"
       },
       "id": "98095420-a608-40a7-9ab6-1f5c9f1262b3"
      }
     }
    },
    "c0294c18-a1b5-484b-9882-0dce0b3ca600": {
     "id": "c0294c18-a1b5-484b-9882-0dce0b3ca600",
     "prev": "9b95e5a7-3604-4b21-ba67-e36c84a73205",
     "regions": {
      "2e99504d-9785-4dab-a9cc-25393b042b1f": {
       "attrs": {
        "height": 0.8,
        "width": 0.8,
        "x": 0.1,
        "y": 0.1
       },
       "content": {
        "cell": "6af54603-54e8-493d-9b85-2a307adc3e3e",
        "part": "whole"
       },
       "id": "2e99504d-9785-4dab-a9cc-25393b042b1f"
      }
     }
    },
    "c40c66c8-0932-42bd-8f85-3b5a237ee79e": {
     "id": "c40c66c8-0932-42bd-8f85-3b5a237ee79e",
     "prev": "1540384f-bfc6-4eab-8cff-e4e1575ddbc7",
     "regions": {
      "13b58019-5123-4489-bcef-97cd81047ce3": {
       "attrs": {
        "height": 0.8,
        "width": 0.8,
        "x": 0.1,
        "y": 0.1
       },
       "content": {
        "cell": "47595371-78fb-428a-a0e9-f87bb85a638a",
        "part": "whole"
       },
       "id": "13b58019-5123-4489-bcef-97cd81047ce3"
      }
     }
    },
    "c47cfca9-7433-422d-bb1f-d50df4533a2f": {
     "id": "c47cfca9-7433-422d-bb1f-d50df4533a2f",
     "prev": "bdaa0fc4-dd21-4609-bb7e-137b328b0b48",
     "regions": {
      "40042d6e-c95f-4bdc-a97d-dd2ec57308ef": {
       "attrs": {
        "height": 0.8,
        "width": 0.8,
        "x": 0.1,
        "y": 0.1
       },
       "content": {
        "cell": "a68636f7-158c-4d6a-b583-3d275a282e01",
        "part": "whole"
       },
       "id": "40042d6e-c95f-4bdc-a97d-dd2ec57308ef"
      }
     }
    },
    "cbe6760e-86a3-4ad5-8ea6-2c07c2c7392b": {
     "id": "cbe6760e-86a3-4ad5-8ea6-2c07c2c7392b",
     "prev": "c47cfca9-7433-422d-bb1f-d50df4533a2f",
     "regions": {
      "8c1253be-ed8a-4c6f-85c3-845ba52fc36e": {
       "attrs": {
        "height": 0.8,
        "width": 0.8,
        "x": 0.1,
        "y": 0.1
       },
       "content": {
        "cell": "3993f9cf-0fac-44e6-b16a-52cd5cad8499",
        "part": "whole"
       },
       "id": "8c1253be-ed8a-4c6f-85c3-845ba52fc36e"
      }
     }
    },
    "d50088a4-a418-4e5c-b8a3-1258297b0d5e": {
     "id": "d50088a4-a418-4e5c-b8a3-1258297b0d5e",
     "prev": "bf68b024-1145-42b0-9d6e-bdb842ceb807",
     "regions": {
      "aeb84b71-451b-4905-8c5f-af8dcb94f875": {
       "attrs": {
        "height": 0.8,
        "width": 0.8,
        "x": 0.1,
        "y": 0.1
       },
       "content": {
        "cell": "75cae59f-161b-4633-b89a-6602433b9e1d",
        "part": "whole"
       },
       "id": "aeb84b71-451b-4905-8c5f-af8dcb94f875"
      }
     }
    },
    "d61f6490-4e01-4740-b07b-3246458c8711": {
     "id": "d61f6490-4e01-4740-b07b-3246458c8711",
     "prev": "980fcb05-1c53-4e81-a8a4-27a44b65fccb",
     "regions": {
      "f14a804e-7438-41ae-9b87-45782a938254": {
       "attrs": {
        "height": 0.8,
        "width": 0.8,
        "x": 0.1,
        "y": 0.1
       },
       "content": {
        "cell": "1c7a7d2f-f1f2-4f92-a149-bf2b70bf3005",
        "part": "whole"
       },
       "id": "f14a804e-7438-41ae-9b87-45782a938254"
      }
     }
    },
    "db5abc67-a0c4-4024-9376-69ee5116e040": {
     "id": "db5abc67-a0c4-4024-9376-69ee5116e040",
     "prev": null,
     "regions": {
      "b93b0aaf-dd33-436a-9e95-eb31efa9e7ec": {
       "attrs": {
        "height": 0.8,
        "width": 0.8,
        "x": 0.1,
        "y": 0.1
       },
       "content": {
        "cell": "a08a3230-0848-4f4f-910f-54b05e7441a4",
        "part": "whole"
       },
       "id": "b93b0aaf-dd33-436a-9e95-eb31efa9e7ec"
      }
     }
    },
    "f0147ed8-7ff6-4e30-a8ad-063554437c9d": {
     "id": "f0147ed8-7ff6-4e30-a8ad-063554437c9d",
     "prev": "95130c7f-b9ec-4b17-98df-1936372ab6b7",
     "regions": {
      "c4ad478a-d238-4afb-92af-9dada04aca5c": {
       "attrs": {
        "height": 0.8,
        "width": 0.8,
        "x": 0.1,
        "y": 0.1
       },
       "content": {
        "cell": "18ca3a59-bf06-4ef1-98b5-8dfb8be0874a",
        "part": "whole"
       },
       "id": "c4ad478a-d238-4afb-92af-9dada04aca5c"
      }
     }
    }
   },
   "themes": {
    "default": "1fa19371-930b-422f-8fb6-a8436bc19846",
    "theme": {
     "1fa19371-930b-422f-8fb6-a8436bc19846": {
      "id": "1fa19371-930b-422f-8fb6-a8436bc19846",
      "palette": {
       "19cc588f-0593-49c9-9f4b-e4d7cc113b1c": {
        "id": "19cc588f-0593-49c9-9f4b-e4d7cc113b1c",
        "rgb": [
         252,
         252,
         252
        ]
       },
       "31af15d2-7e15-44c5-ab5e-e04b16a89eff": {
        "id": "31af15d2-7e15-44c5-ab5e-e04b16a89eff",
        "rgb": [
         68,
         68,
         68
        ]
       },
       "50f92c45-a630-455b-aec3-788680ec7410": {
        "id": "50f92c45-a630-455b-aec3-788680ec7410",
        "rgb": [
         155,
         177,
         192
        ]
       },
       "c5cc3653-2ee1-402a-aba2-7caae1da4f6c": {
        "id": "c5cc3653-2ee1-402a-aba2-7caae1da4f6c",
        "rgb": [
         43,
         126,
         184
        ]
       },
       "efa7f048-9acb-414c-8b04-a26811511a21": {
        "id": "efa7f048-9acb-414c-8b04-a26811511a21",
        "rgb": [
         25.118061674008803,
         73.60176211453744,
         107.4819383259912
        ]
       }
      },
      "rules": {
       "blockquote": {
        "color": "50f92c45-a630-455b-aec3-788680ec7410"
       },
       "code": {
        "font-family": "Anonymous Pro"
       },
       "h1": {
        "color": "c5cc3653-2ee1-402a-aba2-7caae1da4f6c",
        "font-family": "Lato",
        "font-size": 8
       },
       "h2": {
        "color": "c5cc3653-2ee1-402a-aba2-7caae1da4f6c",
        "font-family": "Lato",
        "font-size": 6
       },
       "h3": {
        "color": "50f92c45-a630-455b-aec3-788680ec7410",
        "font-family": "Lato",
        "font-size": 5.5
       },
       "h4": {
        "color": "c5cc3653-2ee1-402a-aba2-7caae1da4f6c",
        "font-family": "Lato",
        "font-size": 5
       },
       "h5": {
        "font-family": "Lato"
       },
       "h6": {
        "font-family": "Lato"
       },
       "h7": {
        "font-family": "Lato"
       },
       "pre": {
        "font-family": "Anonymous Pro",
        "font-size": 4
       }
      },
      "text-base": {
       "font-family": "Merriweather",
       "font-size": 4
      }
     }
    }
   }
  }
 },
 "nbformat": 4,
 "nbformat_minor": 1
}
